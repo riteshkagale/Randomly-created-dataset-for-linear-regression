{
  "nbformat": 4,
  "nbformat_minor": 0,
  "metadata": {
    "colab": {
      "name": "support_vector_regression.ipynb",
      "provenance": [],
      "collapsed_sections": []
    },
    "kernelspec": {
      "name": "python3",
      "display_name": "Python 3"
    }
  },
  "cells": [
    {
      "cell_type": "markdown",
      "metadata": {
        "id": "0VCUAVIjRdzZ"
      },
      "source": [
        "## Importing the libraries"
      ]
    },
    {
      "cell_type": "code",
      "metadata": {
        "id": "56oRF-QfSDzC"
      },
      "source": [
        "import numpy as np\n",
        "import matplotlib.pyplot as plt\n",
        "import pandas as pd"
      ],
      "execution_count": 1,
      "outputs": []
    },
    {
      "cell_type": "code",
      "metadata": {
        "id": "wnUuQzw6tGhP",
        "outputId": "1aadb71b-22b0-4f67-d085-4ccd5c97c869",
        "colab": {
          "base_uri": "https://localhost:8080/",
          "height": 34
        }
      },
      "source": [
        "from google.colab import drive\n",
        "drive.mount('/content/gdrive')"
      ],
      "execution_count": 2,
      "outputs": [
        {
          "output_type": "stream",
          "text": [
            "Drive already mounted at /content/gdrive; to attempt to forcibly remount, call drive.mount(\"/content/gdrive\", force_remount=True).\n"
          ],
          "name": "stdout"
        }
      ]
    },
    {
      "cell_type": "markdown",
      "metadata": {
        "id": "fXVXoFWtSF4_"
      },
      "source": [
        "## Importing the dataset"
      ]
    },
    {
      "cell_type": "code",
      "metadata": {
        "id": "FRw17JITAvdq"
      },
      "source": [
        "Training_dataset = pd.read_csv('/content/gdrive/My Drive/Colab Notebooks/train.csv')\n",
        "Training_dataset = Training_dataset.dropna()\n",
        "X_train = np.array(Training_dataset.iloc[:, :-1].values)\n",
        "y_train = np.array(Training_dataset.iloc[:, 1].values)"
      ],
      "execution_count": 3,
      "outputs": []
    },
    {
      "cell_type": "code",
      "metadata": {
        "id": "xHkzd_mCCHEQ"
      },
      "source": [
        "Testing_dataset = pd.read_csv('/content/gdrive/My Drive/Colab Notebooks/test.csv')\n",
        "Testing_dataset = Testing_dataset.dropna()\n",
        "X_test = np.array(Testing_dataset.iloc[:, :-1].values)\n",
        "y_test = np.array(Testing_dataset.iloc[:, 1].values)"
      ],
      "execution_count": 4,
      "outputs": []
    },
    {
      "cell_type": "code",
      "metadata": {
        "id": "_8Ny1GfPiV3m"
      },
      "source": [
        "y_train = y_train.reshape(len(y_train),1)"
      ],
      "execution_count": 5,
      "outputs": []
    },
    {
      "cell_type": "code",
      "metadata": {
        "id": "MygIi98IIbYG"
      },
      "source": [
        "y_test = y_test.reshape(len(y_test),1)"
      ],
      "execution_count": 6,
      "outputs": []
    },
    {
      "cell_type": "markdown",
      "metadata": {
        "id": "YS8FeLHYS-nI"
      },
      "source": [
        "## Feature Scaling"
      ]
    },
    {
      "cell_type": "code",
      "metadata": {
        "id": "PGeAlD1HTDI1"
      },
      "source": [
        "from sklearn.preprocessing import StandardScaler\n",
        "sc_X = StandardScaler()\n",
        "sc_y = StandardScaler()\n",
        "X_train = sc_X.fit_transform(X_train)\n",
        "y_train = sc_y.fit_transform(y_train)"
      ],
      "execution_count": 7,
      "outputs": []
    },
    {
      "cell_type": "markdown",
      "metadata": {
        "id": "eiU6D2QFRjxY"
      },
      "source": [
        "## Training the SVR model on the Training set"
      ]
    },
    {
      "cell_type": "code",
      "metadata": {
        "id": "y6R4rt_GRz15",
        "outputId": "a22277f0-06a4-45e1-ec11-bcbb9d634121",
        "colab": {
          "base_uri": "https://localhost:8080/",
          "height": 104
        }
      },
      "source": [
        "from sklearn.svm import SVR\n",
        "regressor = SVR(kernel = 'rbf')\n",
        "regressor.fit(X_train, y_train)"
      ],
      "execution_count": 8,
      "outputs": [
        {
          "output_type": "stream",
          "text": [
            "/usr/local/lib/python3.6/dist-packages/sklearn/utils/validation.py:760: DataConversionWarning: A column-vector y was passed when a 1d array was expected. Please change the shape of y to (n_samples, ), for example using ravel().\n",
            "  y = column_or_1d(y, warn=True)\n"
          ],
          "name": "stderr"
        },
        {
          "output_type": "execute_result",
          "data": {
            "text/plain": [
              "SVR(C=1.0, cache_size=200, coef0=0.0, degree=3, epsilon=0.1, gamma='scale',\n",
              "    kernel='rbf', max_iter=-1, shrinking=True, tol=0.001, verbose=False)"
            ]
          },
          "metadata": {
            "tags": []
          },
          "execution_count": 8
        }
      ]
    },
    {
      "cell_type": "markdown",
      "metadata": {
        "id": "aPYA5W1pDBOE"
      },
      "source": [
        "## Predicting the Test set results"
      ]
    },
    {
      "cell_type": "code",
      "metadata": {
        "id": "vSqFVDYrDROW",
        "outputId": "25e8fa3b-3366-499b-86e9-8e28114bb66f",
        "colab": {
          "base_uri": "https://localhost:8080/",
          "height": 1000
        }
      },
      "source": [
        "y_pred = sc_y.inverse_transform(regressor.predict(sc_X.transform(X_test)))\n",
        "np.set_printoptions(precision=2)\n",
        "print(np.concatenate((y_pred.reshape(len(y_pred),1), y_test.reshape(len(y_test),1)),1))"
      ],
      "execution_count": 9,
      "outputs": [
        {
          "output_type": "stream",
          "text": [
            "[[ 77.08  79.78]\n",
            " [ 20.88  23.18]\n",
            " [ 21.92  25.61]\n",
            " [ 19.84  17.86]\n",
            " [ 35.96  41.85]\n",
            " [ 14.54   9.81]\n",
            " [ 62.03  58.87]\n",
            " [ 94.58  97.62]\n",
            " [ 19.84  18.4 ]\n",
            " [  4.76   8.75]\n",
            " [  3.99   2.81]\n",
            " [ 18.79  17.1 ]\n",
            " [ 95.34  95.15]\n",
            " [ 62.03  61.39]\n",
            " [ 35.96  40.25]\n",
            " [ 14.54  14.82]\n",
            " [ 65.04  66.96]\n",
            " [ 13.48  16.64]\n",
            " [ 87.21  90.66]\n",
            " [ 69.05  77.23]\n",
            " [ 89.19  92.12]\n",
            " [ 50.99  46.91]\n",
            " [ 89.19  89.83]\n",
            " [ 27.    21.71]\n",
            " [ 96.05  97.41]\n",
            " [ 58.01  57.02]\n",
            " [ 79.1   78.31]\n",
            " [ 20.88  19.13]\n",
            " [ 92.91  93.03]\n",
            " [ 27.    26.59]\n",
            " [ 97.28  97.55]\n",
            " [ 30.99  31.44]\n",
            " [ 32.98  35.13]\n",
            " [ 80.11  78.61]\n",
            " [ 28.    33.07]\n",
            " [ 46.98  51.7 ]\n",
            " [ 52.99  53.62]\n",
            " [ 69.05  69.46]\n",
            " [ 28.    27.42]\n",
            " [ 32.98  36.35]\n",
            " [ 91.1   95.06]\n",
            " [ 71.06  68.17]\n",
            " [ 49.99  50.96]\n",
            " [ 76.07  78.04]\n",
            " [  3.99   5.61]\n",
            " [ 36.96  36.11]\n",
            " [ 70.06  67.24]\n",
            " [ 68.05  65.01]\n",
            " [ 39.96  38.15]\n",
            " [ 34.97  34.31]\n",
            " [ 93.77  95.29]\n",
            " [ 88.2   87.85]\n",
            " [ 51.99  54.08]\n",
            " [ 30.99  31.93]\n",
            " [ 59.01  59.61]\n",
            " [  1.64  -1.04]\n",
            " [ 38.96  47.49]\n",
            " [ 64.04  62.6 ]\n",
            " [ 69.05  70.91]\n",
            " [ 57.01  56.15]\n",
            " [ 12.42  14.06]\n",
            " [ 72.06  68.11]\n",
            " [ 76.07  75.6 ]\n",
            " [ 61.02  59.23]\n",
            " [ 82.14  85.46]\n",
            " [ 17.73  17.76]\n",
            " [ 40.96  38.69]\n",
            " [ 49.99  50.96]\n",
            " [ 55.    51.84]\n",
            " [ 12.42  17.08]\n",
            " [ 45.97  46.56]\n",
            " [ 12.42  10.35]\n",
            " [ 79.1   77.91]\n",
            " [ 52.99  50.17]\n",
            " [ 14.54  13.26]\n",
            " [ 28.    31.32]\n",
            " [ 81.13  73.93]\n",
            " [ 69.05  74.45]\n",
            " [ 51.99  52.02]\n",
            " [ 84.18  83.69]\n",
            " [ 68.05  70.37]\n",
            " [ 27.    23.44]\n",
            " [ 56.    49.83]\n",
            " [ 47.98  49.88]\n",
            " [ 39.96  41.05]\n",
            " [ 38.96  33.38]\n",
            " [ 82.14  81.3 ]\n",
            " [ 97.79 105.59]\n",
            " [ 59.01  56.82]\n",
            " [ 42.96  48.67]\n",
            " [ 67.05  67.02]\n",
            " [ 37.96  38.43]\n",
            " [ 63.03  58.61]\n",
            " [ 91.1   89.12]\n",
            " [ 60.02  60.91]\n",
            " [ 13.48  13.84]\n",
            " [ 20.88  16.89]\n",
            " [ 87.21  84.07]\n",
            " [ 73.06  70.35]\n",
            " [ 31.98  33.38]\n",
            " [  2.66  -1.63]\n",
            " [ 82.14  88.54]\n",
            " [ 18.79  17.44]\n",
            " [ 74.06  75.69]\n",
            " [ 41.96  41.98]\n",
            " [ 11.38  12.59]\n",
            " [  2.1    0.28]\n",
            " [ 90.16  98.13]\n",
            " [ 89.19  87.46]\n",
            " [  1.64  -2.34]\n",
            " [ 40.96  39.33]\n",
            " [ 15.61  16.69]\n",
            " [ 93.77  96.59]\n",
            " [ 96.05  97.7 ]\n",
            " [ 66.05  67.02]\n",
            " [ 23.97  25.63]\n",
            " [ 16.67  13.41]\n",
            " [ 90.16  95.16]\n",
            " [ 12.42   9.74]\n",
            " [  1.64  -3.47]\n",
            " [ 64.04  62.83]\n",
            " [ 95.34  97.27]\n",
            " [ 96.7   95.58]\n",
            " [ 11.38   7.47]\n",
            " [ 40.96  45.45]\n",
            " [ 46.98  46.69]\n",
            " [ 78.09  74.5 ]\n",
            " [ 19.84  21.64]\n",
            " [ 89.19  91.6 ]\n",
            " [ 29.    26.49]\n",
            " [ 64.04  67.39]\n",
            " [ 75.07  74.25]\n",
            " [ 11.38  12.08]\n",
            " [ 24.98  21.32]\n",
            " [ 28.    29.32]\n",
            " [ 29.99  26.49]\n",
            " [ 65.04  68.95]\n",
            " [ 59.01  59.11]\n",
            " [ 64.04  64.38]\n",
            " [ 52.99  60.21]\n",
            " [ 71.06  70.34]\n",
            " [ 96.05  97.11]\n",
            " [ 73.06  75.76]\n",
            " [  8.34  10.8 ]\n",
            " [ 11.38  12.11]\n",
            " [ 63.03  63.28]\n",
            " [ 97.28  98.03]\n",
            " [ 60.02  63.19]\n",
            " [ 34.97  34.85]\n",
            " [  2.66  -2.82]\n",
            " [ 60.02  59.83]\n",
            " [ 31.98  29.39]\n",
            " [ 93.77  97.  ]\n",
            " [ 84.18  85.19]\n",
            " [ 63.03  61.74]\n",
            " [ 21.92  18.85]\n",
            " [ 81.13  78.79]\n",
            " [ 92.91  95.12]\n",
            " [ 32.98  30.49]\n",
            " [  6.46  10.41]\n",
            " [ 41.96  38.98]\n",
            " [ 45.97  46.11]\n",
            " [ 54.    52.45]\n",
            " [ 15.61  21.17]\n",
            " [ 48.98  52.29]\n",
            " [ 42.96  44.19]\n",
            " [ 94.58  97.14]\n",
            " [ 66.05  67.22]\n",
            " [ 20.88  18.98]\n",
            " [ 34.97  24.39]\n",
            " [ 80.11  79.45]\n",
            " [ 36.96  40.04]\n",
            " [ 54.    53.32]\n",
            " [ 56.    54.55]\n",
            " [  2.1   -2.76]\n",
            " [ 31.98  37.8 ]\n",
            " [ 58.01  57.49]\n",
            " [ 31.98  36.06]\n",
            " [ 45.97  49.84]\n",
            " [ 72.06  74.69]\n",
            " [ 16.67  14.86]\n",
            " [ 96.05 101.07]\n",
            " [ 92.91  99.44]\n",
            " [ 91.1   91.69]\n",
            " [ 36.96  34.12]\n",
            " [  3.99   6.08]\n",
            " [ 54.    59.07]\n",
            " [ 50.99  56.43]\n",
            " [ 27.    30.49]\n",
            " [ 45.97  48.35]\n",
            " [ 92.02  89.73]\n",
            " [ 73.06  72.86]\n",
            " [ 77.08  80.97]\n",
            " [ 91.1   91.37]\n",
            " [ 61.02  60.07]\n",
            " [ 97.28  99.87]\n",
            " [  3.99   8.66]\n",
            " [ 72.06  69.4 ]\n",
            " [ 18.79  19.39]\n",
            " [ 57.01  53.12]\n",
            " [ 78.09  78.4 ]\n",
            " [ 25.99  25.76]\n",
            " [ 74.06  75.07]\n",
            " [ 90.16  92.89]\n",
            " [ 66.05  69.45]\n",
            " [ 12.42  13.12]\n",
            " [ 39.96  48.1 ]\n",
            " [ 77.08  79.31]\n",
            " [ 67.05  68.49]\n",
            " [ 75.07  73.23]\n",
            " [ 22.95  24.68]\n",
            " [ 44.97  41.9 ]\n",
            " [ 59.01  62.23]\n",
            " [ 43.97  45.96]\n",
            " [ 22.95  23.53]\n",
            " [ 55.    51.8 ]\n",
            " [ 55.    51.11]\n",
            " [ 94.58  95.8 ]\n",
            " [ 11.38   9.24]\n",
            " [  3.99   7.65]\n",
            " [  6.46   9.28]\n",
            " [ 97.79 103.53]\n",
            " [ 47.98  47.41]\n",
            " [ 41.96  42.04]\n",
            " [ 95.34  96.12]\n",
            " [ 38.96  38.06]\n",
            " [ 97.79 105.45]\n",
            " [ 87.21  88.8 ]\n",
            " [ 13.48  15.49]\n",
            " [ 13.48  12.43]\n",
            " [ 36.96  40.01]\n",
            " [  4.76   5.63]\n",
            " [ 88.2   87.37]\n",
            " [ 91.1   89.74]\n",
            " [ 65.04  66.61]\n",
            " [ 74.06  72.91]\n",
            " [ 56.    57.19]\n",
            " [ 15.61  11.22]\n",
            " [  4.76   0.68]\n",
            " [ 28.    28.16]\n",
            " [ 92.02  95.4 ]\n",
            " [ 45.97  52.05]\n",
            " [ 54.    59.71]\n",
            " [ 38.96  36.79]\n",
            " [ 43.97  37.08]\n",
            " [ 30.99  24.18]\n",
            " [ 68.05  67.29]\n",
            " [ 86.2   82.87]\n",
            " [ 90.16  89.9 ]\n",
            " [ 37.96  36.94]\n",
            " [ 20.88  19.88]\n",
            " [ 94.58  90.71]\n",
            " [ 56.    61.09]\n",
            " [ 60.02  60.11]\n",
            " [ 65.04  64.83]\n",
            " [ 78.09  81.4 ]\n",
            " [ 89.19  92.4 ]\n",
            " [  5.59   2.58]\n",
            " [ 67.05  63.81]\n",
            " [ 35.96  38.68]\n",
            " [ 15.61  16.83]\n",
            " [ 97.79  99.79]\n",
            " [ 44.97  44.69]\n",
            " [ 73.06  71.  ]\n",
            " [ 57.01  51.57]\n",
            " [ 19.84  19.88]\n",
            " [ 76.07  79.5 ]\n",
            " [ 33.97  34.59]\n",
            " [ 55.    55.74]\n",
            " [ 72.06  68.2 ]\n",
            " [ 55.    55.82]\n",
            " [  7.38   9.39]\n",
            " [ 56.    56.01]\n",
            " [ 72.06  78.  ]\n",
            " [ 58.01  55.37]\n",
            " [  5.59  11.89]\n",
            " [ 95.34  94.79]\n",
            " [ 22.95  25.69]\n",
            " [ 58.01  53.52]\n",
            " [ 22.95  18.31]\n",
            " [ 18.79  21.43]\n",
            " [ 24.98  30.41]\n",
            " [ 64.04  67.68]\n",
            " [ 20.88  17.09]\n",
            " [ 59.01  60.92]\n",
            " [ 18.79  15.  ]\n",
            " [ 15.61  16.75]\n",
            " [ 41.96  41.47]\n",
            " [ 42.96  42.85]\n",
            " [ 61.02  59.13]\n",
            " [ 92.02  91.31]\n",
            " [ 10.34   8.67]\n",
            " [ 40.96  39.31]\n",
            " [  2.1    5.31]\n",
            " [  7.38   5.41]\n",
            " [ 71.06  68.55]\n",
            " [ 45.97  47.33]\n",
            " [ 55.    54.09]\n",
            " [ 62.03  63.3 ]\n",
            " [ 46.98  52.46]]\n"
          ],
          "name": "stdout"
        }
      ]
    },
    {
      "cell_type": "markdown",
      "metadata": {
        "id": "CMsYlps2DX1d"
      },
      "source": [
        "## Evaluating the Model Performance"
      ]
    },
    {
      "cell_type": "code",
      "metadata": {
        "id": "HxsRWlURDr6S",
        "outputId": "af51b1c0-5e98-466d-b76f-d642074485b6",
        "colab": {
          "base_uri": "https://localhost:8080/",
          "height": 34
        }
      },
      "source": [
        "from sklearn.metrics import r2_score\n",
        "r2_score(y_test, y_pred)"
      ],
      "execution_count": 10,
      "outputs": [
        {
          "output_type": "execute_result",
          "data": {
            "text/plain": [
              "0.9882912537015398"
            ]
          },
          "metadata": {
            "tags": []
          },
          "execution_count": 10
        }
      ]
    },
    {
      "cell_type": "code",
      "metadata": {
        "id": "oq_03yLVJdCe",
        "outputId": "022979fb-56b8-458f-b18c-6d7ab68adcb4",
        "colab": {
          "base_uri": "https://localhost:8080/",
          "height": 295
        }
      },
      "source": [
        "# Visualising the SVR results\n",
        "plt.scatter(sc_X.inverse_transform(X_train), sc_y.inverse_transform(y_train), color = 'red')\n",
        "plt.plot(sc_X.inverse_transform(X_train), sc_y.inverse_transform(regressor.predict(X_train)), color = 'blue')\n",
        "plt.title('Input vs Random values')\n",
        "plt.xlabel('Input')\n",
        "plt.ylabel('Random values')\n",
        "plt.show()"
      ],
      "execution_count": 11,
      "outputs": [
        {
          "output_type": "display_data",
          "data": {
            "image/png": "[encoded data removed]",
            "text/plain": [
              "<Figure size 432x288 with 1 Axes>"
            ]
          },
          "metadata": {
            "tags": [],
            "needs_background": "light"
          }
        }
      ]
    },
    {
      "cell_type": "code",
      "metadata": {
        "id": "tztd4CAnKJ05",
        "outputId": "a8eb289e-dc54-45b9-8bf5-6d7c5dca37b4",
        "colab": {
          "base_uri": "https://localhost:8080/",
          "height": 295
        }
      },
      "source": [
        "# Visualising the SVR results\n",
        "plt.scatter(X_test, y_test, color = 'red')\n",
        "plt.plot(sc_X.inverse_transform(X_train), sc_y.inverse_transform(regressor.predict(X_train)), color = 'blue')\n",
        "plt.title('Input vs Random values')\n",
        "plt.xlabel('Input')\n",
        "plt.ylabel('Random values')\n",
        "plt.show()"
      ],
      "execution_count": 12,
      "outputs": [
        {
          "output_type": "display_data",
          "data": {
            "image/png": "[encoded data removed]",
            "text/plain": [
              "<Figure size 432x288 with 1 Axes>"
            ]
          },
          "metadata": {
            "tags": [],
            "needs_background": "light"
          }
        }
      ]
    },
    {
      "cell_type": "code",
      "metadata": {
        "id": "ZWBO3BnYKI1z",
        "outputId": "f374fdde-48ca-46e6-b246-1ac794dfc681",
        "colab": {
          "base_uri": "https://localhost:8080/",
          "height": 295
        }
      },
      "source": [
        "# Visualising the SVR results (for higher resolution and smoother curve)\n",
        "X_grid = np.arange(min(sc_X.inverse_transform(X_train)), max(sc_X.inverse_transform(X_train)), 0.1)\n",
        "X_grid = X_grid.reshape((len(X_grid), 1))\n",
        "plt.scatter(X_test, y_test, color = 'red')\n",
        "plt.plot(X_grid, sc_y.inverse_transform(regressor.predict(sc_X.transform(X_grid))), color = 'blue')\n",
        "plt.title('Truth or Bluff (SVR)')\n",
        "plt.xlabel('Input')\n",
        "plt.ylabel('Random Values')\n",
        "plt.show()"
      ],
      "execution_count": 13,
      "outputs": [
        {
          "output_type": "display_data",
          "data": {
            "image/png": "[encoded data removed]",
            "text/plain": [
              "<Figure size 432x288 with 1 Axes>"
            ]
          },
          "metadata": {
            "tags": [],
            "needs_background": "light"
          }
        }
      ]
    }
  ]
}