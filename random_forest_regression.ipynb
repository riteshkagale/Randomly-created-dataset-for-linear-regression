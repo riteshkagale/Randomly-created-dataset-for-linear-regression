{
  "nbformat": 4,
  "nbformat_minor": 0,
  "metadata": {
    "colab": {
      "name": "random_forest_regression.ipynb",
      "provenance": [],
      "collapsed_sections": []
    },
    "kernelspec": {
      "name": "python3",
      "display_name": "Python 3"
    }
  },
  "cells": [
    {
      "cell_type": "markdown",
      "metadata": {
        "id": "O2wvZ7SKXzVC"
      },
      "source": [
        "## Importing the libraries"
      ]
    },
    {
      "cell_type": "code",
      "metadata": {
        "id": "PVmESEFZX4Ig"
      },
      "source": [
        "import numpy as np\n",
        "import matplotlib.pyplot as plt\n",
        "import pandas as pd"
      ],
      "execution_count": 1,
      "outputs": []
    },
    {
      "cell_type": "code",
      "metadata": {
        "id": "IrImKgkduO1K",
        "outputId": "356f0d25-cad1-4096-d1c1-dede62f6c250",
        "colab": {
          "base_uri": "https://localhost:8080/",
          "height": 34
        }
      },
      "source": [
        "from google.colab import drive\n",
        "drive.mount('/content/gdrive')"
      ],
      "execution_count": 2,
      "outputs": [
        {
          "output_type": "stream",
          "text": [
            "Mounted at /content/gdrive\n"
          ],
          "name": "stdout"
        }
      ]
    },
    {
      "cell_type": "markdown",
      "metadata": {
        "id": "zgbK_F8-X7em"
      },
      "source": [
        "## Importing the dataset"
      ]
    },
    {
      "cell_type": "code",
      "metadata": {
        "id": "FRw17JITAvdq"
      },
      "source": [
        "Training_dataset = pd.read_csv('/content/gdrive/My Drive/Colab Notebooks/train.csv')\n",
        "Training_dataset = Training_dataset.dropna()\n",
        "X_train = np.array(Training_dataset.iloc[:, :-1].values)\n",
        "y_train = np.array(Training_dataset.iloc[:, 1].values)"
      ],
      "execution_count": 3,
      "outputs": []
    },
    {
      "cell_type": "code",
      "metadata": {
        "id": "xHkzd_mCCHEQ"
      },
      "source": [
        "Testing_dataset = pd.read_csv('/content/gdrive/My Drive/Colab Notebooks/test.csv')\n",
        "Testing_dataset = Testing_dataset.dropna()\n",
        "X_test = np.array(Testing_dataset.iloc[:, :-1].values)\n",
        "y_test = np.array(Testing_dataset.iloc[:, 1].values)"
      ],
      "execution_count": 4,
      "outputs": []
    },
    {
      "cell_type": "markdown",
      "metadata": {
        "id": "v4S2fyIBYDcu"
      },
      "source": [
        "## Training the Random Forest Regression model on the whole dataset"
      ]
    },
    {
      "cell_type": "code",
      "metadata": {
        "id": "o8dOCoJ1YKMc",
        "outputId": "0acd99c8-6a75-4564-e440-ea8447e05969",
        "colab": {
          "base_uri": "https://localhost:8080/",
          "height": 134
        }
      },
      "source": [
        "from sklearn.ensemble import RandomForestRegressor\n",
        "regressor = RandomForestRegressor(n_estimators = 10, random_state = 0)\n",
        "regressor.fit(X_train, y_train)"
      ],
      "execution_count": 5,
      "outputs": [
        {
          "output_type": "execute_result",
          "data": {
            "text/plain": [
              "RandomForestRegressor(bootstrap=True, ccp_alpha=0.0, criterion='mse',\n",
              "                      max_depth=None, max_features='auto', max_leaf_nodes=None,\n",
              "                      max_samples=None, min_impurity_decrease=0.0,\n",
              "                      min_impurity_split=None, min_samples_leaf=1,\n",
              "                      min_samples_split=2, min_weight_fraction_leaf=0.0,\n",
              "                      n_estimators=10, n_jobs=None, oob_score=False,\n",
              "                      random_state=0, verbose=0, warm_start=False)"
            ]
          },
          "metadata": {
            "tags": []
          },
          "execution_count": 5
        }
      ]
    },
    {
      "cell_type": "markdown",
      "metadata": {
        "id": "DM_jh0frOPKE"
      },
      "source": [
        "## Predicting the Test set results"
      ]
    },
    {
      "cell_type": "code",
      "metadata": {
        "id": "JGa9ZfM4OTNw",
        "outputId": "c8a1d253-fa7a-4a1d-b911-5856e949d272",
        "colab": {
          "base_uri": "https://localhost:8080/",
          "height": 1000
        }
      },
      "source": [
        "y_pred = regressor.predict(X_test)\n",
        "np.set_printoptions(precision=2)\n",
        "print(np.concatenate((y_pred.reshape(len(y_pred),1), y_test.reshape(len(y_test),1)),1))"
      ],
      "execution_count": 6,
      "outputs": [
        {
          "output_type": "stream",
          "text": [
            "[[ 7.72e+01  7.98e+01]\n",
            " [ 2.22e+01  2.32e+01]\n",
            " [ 2.07e+01  2.56e+01]\n",
            " [ 2.01e+01  1.79e+01]\n",
            " [ 3.43e+01  4.18e+01]\n",
            " [ 1.43e+01  9.81e+00]\n",
            " [ 6.15e+01  5.89e+01]\n",
            " [ 9.52e+01  9.76e+01]\n",
            " [ 2.01e+01  1.84e+01]\n",
            " [ 4.22e+00  8.75e+00]\n",
            " [ 6.38e+00  2.81e+00]\n",
            " [ 2.10e+01  1.71e+01]\n",
            " [ 9.31e+01  9.51e+01]\n",
            " [ 6.15e+01  6.14e+01]\n",
            " [ 3.43e+01  4.02e+01]\n",
            " [ 1.43e+01  1.48e+01]\n",
            " [ 6.35e+01  6.70e+01]\n",
            " [ 1.21e+01  1.66e+01]\n",
            " [ 8.68e+01  9.07e+01]\n",
            " [ 6.71e+01  7.72e+01]\n",
            " [ 8.87e+01  9.21e+01]\n",
            " [ 5.08e+01  4.69e+01]\n",
            " [ 8.87e+01  8.98e+01]\n",
            " [ 2.52e+01  2.17e+01]\n",
            " [ 9.62e+01  9.74e+01]\n",
            " [ 5.81e+01  5.70e+01]\n",
            " [ 7.89e+01  7.83e+01]\n",
            " [ 2.22e+01  1.91e+01]\n",
            " [ 9.20e+01  9.30e+01]\n",
            " [ 2.52e+01  2.66e+01]\n",
            " [ 9.84e+01  9.76e+01]\n",
            " [ 2.95e+01  3.14e+01]\n",
            " [ 3.42e+01  3.51e+01]\n",
            " [ 7.82e+01  7.86e+01]\n",
            " [ 2.84e+01  3.31e+01]\n",
            " [ 4.86e+01  5.17e+01]\n",
            " [ 5.33e+01  5.36e+01]\n",
            " [ 6.71e+01  6.95e+01]\n",
            " [ 2.84e+01  2.74e+01]\n",
            " [ 3.42e+01  3.63e+01]\n",
            " [ 9.18e+01  9.51e+01]\n",
            " [ 7.09e+01  6.82e+01]\n",
            " [ 4.91e+01  5.10e+01]\n",
            " [ 7.61e+01  7.80e+01]\n",
            " [ 6.38e+00  5.61e+00]\n",
            " [ 3.82e+01  3.61e+01]\n",
            " [ 7.29e+01  6.72e+01]\n",
            " [ 6.64e+01  6.50e+01]\n",
            " [ 4.19e+01  3.81e+01]\n",
            " [ 3.43e+01  3.43e+01]\n",
            " [ 9.45e+01  9.53e+01]\n",
            " [ 8.84e+01  8.78e+01]\n",
            " [ 5.28e+01  5.41e+01]\n",
            " [ 2.95e+01  3.19e+01]\n",
            " [ 6.09e+01  5.96e+01]\n",
            " [-1.02e-01 -1.04e+00]\n",
            " [ 3.93e+01  4.75e+01]\n",
            " [ 6.64e+01  6.26e+01]\n",
            " [ 6.71e+01  7.09e+01]\n",
            " [ 5.76e+01  5.61e+01]\n",
            " [ 1.13e+01  1.41e+01]\n",
            " [ 7.19e+01  6.81e+01]\n",
            " [ 7.61e+01  7.56e+01]\n",
            " [ 6.17e+01  5.92e+01]\n",
            " [ 8.69e+01  8.55e+01]\n",
            " [ 1.63e+01  1.78e+01]\n",
            " [ 4.16e+01  3.87e+01]\n",
            " [ 4.91e+01  5.10e+01]\n",
            " [ 5.49e+01  5.18e+01]\n",
            " [ 1.13e+01  1.71e+01]\n",
            " [ 4.71e+01  4.66e+01]\n",
            " [ 1.13e+01  1.03e+01]\n",
            " [ 7.89e+01  7.79e+01]\n",
            " [ 5.33e+01  5.02e+01]\n",
            " [ 1.43e+01  1.33e+01]\n",
            " [ 2.84e+01  3.13e+01]\n",
            " [ 8.15e+01  7.39e+01]\n",
            " [ 6.71e+01  7.45e+01]\n",
            " [ 5.28e+01  5.20e+01]\n",
            " [ 8.40e+01  8.37e+01]\n",
            " [ 6.64e+01  7.04e+01]\n",
            " [ 2.52e+01  2.34e+01]\n",
            " [ 5.59e+01  4.98e+01]\n",
            " [ 4.86e+01  4.99e+01]\n",
            " [ 4.19e+01  4.10e+01]\n",
            " [ 3.93e+01  3.34e+01]\n",
            " [ 8.69e+01  8.13e+01]\n",
            " [ 1.01e+02  1.06e+02]\n",
            " [ 6.09e+01  5.68e+01]\n",
            " [ 4.31e+01  4.87e+01]\n",
            " [ 6.80e+01  6.70e+01]\n",
            " [ 3.64e+01  3.84e+01]\n",
            " [ 6.27e+01  5.86e+01]\n",
            " [ 9.18e+01  8.91e+01]\n",
            " [ 5.82e+01  6.09e+01]\n",
            " [ 1.21e+01  1.38e+01]\n",
            " [ 2.22e+01  1.69e+01]\n",
            " [ 8.68e+01  8.41e+01]\n",
            " [ 7.18e+01  7.03e+01]\n",
            " [ 3.33e+01  3.34e+01]\n",
            " [ 6.48e-01 -1.63e+00]\n",
            " [ 8.69e+01  8.85e+01]\n",
            " [ 2.10e+01  1.74e+01]\n",
            " [ 7.30e+01  7.57e+01]\n",
            " [ 4.31e+01  4.20e+01]\n",
            " [ 1.21e+01  1.26e+01]\n",
            " [ 2.40e+00  2.75e-01]\n",
            " [ 9.05e+01  9.81e+01]\n",
            " [ 8.87e+01  8.75e+01]\n",
            " [-1.02e-01 -2.34e+00]\n",
            " [ 4.16e+01  3.93e+01]\n",
            " [ 1.57e+01  1.67e+01]\n",
            " [ 9.45e+01  9.66e+01]\n",
            " [ 9.62e+01  9.77e+01]\n",
            " [ 6.59e+01  6.70e+01]\n",
            " [ 2.25e+01  2.56e+01]\n",
            " [ 1.76e+01  1.34e+01]\n",
            " [ 9.05e+01  9.52e+01]\n",
            " [ 1.13e+01  9.74e+00]\n",
            " [-1.02e-01 -3.47e+00]\n",
            " [ 6.64e+01  6.28e+01]\n",
            " [ 9.31e+01  9.73e+01]\n",
            " [ 9.76e+01  9.56e+01]\n",
            " [ 1.21e+01  7.47e+00]\n",
            " [ 4.16e+01  4.54e+01]\n",
            " [ 4.86e+01  4.67e+01]\n",
            " [ 7.93e+01  7.45e+01]\n",
            " [ 2.01e+01  2.16e+01]\n",
            " [ 8.87e+01  9.16e+01]\n",
            " [ 2.93e+01  2.65e+01]\n",
            " [ 6.64e+01  6.74e+01]\n",
            " [ 7.60e+01  7.43e+01]\n",
            " [ 1.21e+01  1.21e+01]\n",
            " [ 2.53e+01  2.13e+01]\n",
            " [ 2.84e+01  2.93e+01]\n",
            " [ 3.05e+01  2.65e+01]\n",
            " [ 6.35e+01  6.89e+01]\n",
            " [ 6.09e+01  5.91e+01]\n",
            " [ 6.64e+01  6.44e+01]\n",
            " [ 5.33e+01  6.02e+01]\n",
            " [ 7.09e+01  7.03e+01]\n",
            " [ 9.62e+01  9.71e+01]\n",
            " [ 7.18e+01  7.58e+01]\n",
            " [ 1.06e+01  1.08e+01]\n",
            " [ 1.21e+01  1.21e+01]\n",
            " [ 6.27e+01  6.33e+01]\n",
            " [ 9.84e+01  9.80e+01]\n",
            " [ 5.82e+01  6.32e+01]\n",
            " [ 3.43e+01  3.49e+01]\n",
            " [ 6.48e-01 -2.82e+00]\n",
            " [ 5.82e+01  5.98e+01]\n",
            " [ 3.33e+01  2.94e+01]\n",
            " [ 9.45e+01  9.70e+01]\n",
            " [ 8.40e+01  8.52e+01]\n",
            " [ 6.27e+01  6.17e+01]\n",
            " [ 2.07e+01  1.88e+01]\n",
            " [ 8.15e+01  7.88e+01]\n",
            " [ 9.20e+01  9.51e+01]\n",
            " [ 3.42e+01  3.05e+01]\n",
            " [ 5.63e+00  1.04e+01]\n",
            " [ 4.31e+01  3.90e+01]\n",
            " [ 4.71e+01  4.61e+01]\n",
            " [ 5.22e+01  5.25e+01]\n",
            " [ 1.57e+01  2.12e+01]\n",
            " [ 4.90e+01  5.23e+01]\n",
            " [ 4.31e+01  4.42e+01]\n",
            " [ 9.52e+01  9.71e+01]\n",
            " [ 6.59e+01  6.72e+01]\n",
            " [ 2.22e+01  1.90e+01]\n",
            " [ 3.43e+01  2.44e+01]\n",
            " [ 7.82e+01  7.94e+01]\n",
            " [ 3.82e+01  4.00e+01]\n",
            " [ 5.22e+01  5.33e+01]\n",
            " [ 5.59e+01  5.46e+01]\n",
            " [ 2.40e+00 -2.76e+00]\n",
            " [ 3.33e+01  3.78e+01]\n",
            " [ 5.81e+01  5.75e+01]\n",
            " [ 3.33e+01  3.61e+01]\n",
            " [ 4.71e+01  4.98e+01]\n",
            " [ 7.19e+01  7.47e+01]\n",
            " [ 1.76e+01  1.49e+01]\n",
            " [ 9.62e+01  1.01e+02]\n",
            " [ 9.20e+01  9.94e+01]\n",
            " [ 9.18e+01  9.17e+01]\n",
            " [ 3.82e+01  3.41e+01]\n",
            " [ 6.38e+00  6.08e+00]\n",
            " [ 5.22e+01  5.91e+01]\n",
            " [ 5.08e+01  5.64e+01]\n",
            " [ 2.52e+01  3.05e+01]\n",
            " [ 4.71e+01  4.84e+01]\n",
            " [ 8.85e+01  8.97e+01]\n",
            " [ 7.18e+01  7.29e+01]\n",
            " [ 7.72e+01  8.10e+01]\n",
            " [ 9.18e+01  9.14e+01]\n",
            " [ 6.17e+01  6.01e+01]\n",
            " [ 9.84e+01  9.99e+01]\n",
            " [ 6.38e+00  8.66e+00]\n",
            " [ 7.19e+01  6.94e+01]\n",
            " [ 2.10e+01  1.94e+01]\n",
            " [ 5.76e+01  5.31e+01]\n",
            " [ 7.93e+01  7.84e+01]\n",
            " [ 2.59e+01  2.58e+01]\n",
            " [ 7.30e+01  7.51e+01]\n",
            " [ 9.05e+01  9.29e+01]\n",
            " [ 6.59e+01  6.95e+01]\n",
            " [ 1.13e+01  1.31e+01]\n",
            " [ 4.19e+01  4.81e+01]\n",
            " [ 7.72e+01  7.93e+01]\n",
            " [ 6.80e+01  6.85e+01]\n",
            " [ 7.60e+01  7.32e+01]\n",
            " [ 2.02e+01  2.47e+01]\n",
            " [ 4.40e+01  4.19e+01]\n",
            " [ 6.09e+01  6.22e+01]\n",
            " [ 4.48e+01  4.60e+01]\n",
            " [ 2.02e+01  2.35e+01]\n",
            " [ 5.49e+01  5.18e+01]\n",
            " [ 5.49e+01  5.11e+01]\n",
            " [ 9.52e+01  9.58e+01]\n",
            " [ 1.21e+01  9.24e+00]\n",
            " [ 6.38e+00  7.65e+00]\n",
            " [ 5.63e+00  9.28e+00]\n",
            " [ 1.01e+02  1.04e+02]\n",
            " [ 4.86e+01  4.74e+01]\n",
            " [ 4.31e+01  4.20e+01]\n",
            " [ 9.31e+01  9.61e+01]\n",
            " [ 3.93e+01  3.81e+01]\n",
            " [ 1.01e+02  1.05e+02]\n",
            " [ 8.68e+01  8.88e+01]\n",
            " [ 1.21e+01  1.55e+01]\n",
            " [ 1.21e+01  1.24e+01]\n",
            " [ 3.82e+01  4.00e+01]\n",
            " [ 4.22e+00  5.63e+00]\n",
            " [ 8.84e+01  8.74e+01]\n",
            " [ 9.18e+01  8.97e+01]\n",
            " [ 6.35e+01  6.66e+01]\n",
            " [ 7.30e+01  7.29e+01]\n",
            " [ 5.59e+01  5.72e+01]\n",
            " [ 1.57e+01  1.12e+01]\n",
            " [ 4.22e+00  6.76e-01]\n",
            " [ 2.84e+01  2.82e+01]\n",
            " [ 8.85e+01  9.54e+01]\n",
            " [ 4.71e+01  5.21e+01]\n",
            " [ 5.22e+01  5.97e+01]\n",
            " [ 3.93e+01  3.68e+01]\n",
            " [ 4.48e+01  3.71e+01]\n",
            " [ 2.95e+01  2.42e+01]\n",
            " [ 6.64e+01  6.73e+01]\n",
            " [ 8.66e+01  8.29e+01]\n",
            " [ 9.05e+01  8.99e+01]\n",
            " [ 3.64e+01  3.69e+01]\n",
            " [ 2.22e+01  1.99e+01]\n",
            " [ 9.52e+01  9.07e+01]\n",
            " [ 5.59e+01  6.11e+01]\n",
            " [ 5.82e+01  6.01e+01]\n",
            " [ 6.35e+01  6.48e+01]\n",
            " [ 7.93e+01  8.14e+01]\n",
            " [ 8.87e+01  9.24e+01]\n",
            " [ 6.86e+00  2.58e+00]\n",
            " [ 6.80e+01  6.38e+01]\n",
            " [ 3.43e+01  3.87e+01]\n",
            " [ 1.57e+01  1.68e+01]\n",
            " [ 1.01e+02  9.98e+01]\n",
            " [ 4.40e+01  4.47e+01]\n",
            " [ 7.18e+01  7.10e+01]\n",
            " [ 5.76e+01  5.16e+01]\n",
            " [ 2.01e+01  1.99e+01]\n",
            " [ 7.61e+01  7.95e+01]\n",
            " [ 3.59e+01  3.46e+01]\n",
            " [ 5.49e+01  5.57e+01]\n",
            " [ 7.19e+01  6.82e+01]\n",
            " [ 5.49e+01  5.58e+01]\n",
            " [ 8.44e+00  9.39e+00]\n",
            " [ 5.59e+01  5.60e+01]\n",
            " [ 7.19e+01  7.80e+01]\n",
            " [ 5.81e+01  5.54e+01]\n",
            " [ 6.86e+00  1.19e+01]\n",
            " [ 9.31e+01  9.48e+01]\n",
            " [ 2.02e+01  2.57e+01]\n",
            " [ 5.81e+01  5.35e+01]\n",
            " [ 2.02e+01  1.83e+01]\n",
            " [ 2.10e+01  2.14e+01]\n",
            " [ 2.53e+01  3.04e+01]\n",
            " [ 6.64e+01  6.77e+01]\n",
            " [ 2.22e+01  1.71e+01]\n",
            " [ 6.09e+01  6.09e+01]\n",
            " [ 2.10e+01  1.50e+01]\n",
            " [ 1.57e+01  1.67e+01]\n",
            " [ 4.31e+01  4.15e+01]\n",
            " [ 4.31e+01  4.28e+01]\n",
            " [ 6.17e+01  5.91e+01]\n",
            " [ 8.85e+01  9.13e+01]\n",
            " [ 9.47e+00  8.67e+00]\n",
            " [ 4.16e+01  3.93e+01]\n",
            " [ 2.40e+00  5.31e+00]\n",
            " [ 8.44e+00  5.41e+00]\n",
            " [ 7.09e+01  6.85e+01]\n",
            " [ 4.71e+01  4.73e+01]\n",
            " [ 5.49e+01  5.41e+01]\n",
            " [ 6.15e+01  6.33e+01]\n",
            " [ 4.86e+01  5.25e+01]]\n"
          ],
          "name": "stdout"
        }
      ]
    },
    {
      "cell_type": "markdown",
      "metadata": {
        "id": "Cd8VZM5POWXN"
      },
      "source": [
        "## Evaluating the Model Performance"
      ]
    },
    {
      "cell_type": "code",
      "metadata": {
        "id": "a7y1rXlfOZJo",
        "outputId": "7742a9e5-b11b-4c2d-adbb-f31e86bb4b2b",
        "colab": {
          "base_uri": "https://localhost:8080/",
          "height": 34
        }
      },
      "source": [
        "from sklearn.metrics import r2_score\n",
        "r2_score(y_test, y_pred)"
      ],
      "execution_count": 7,
      "outputs": [
        {
          "output_type": "execute_result",
          "data": {
            "text/plain": [
              "0.9872205033959207"
            ]
          },
          "metadata": {
            "tags": []
          },
          "execution_count": 7
        }
      ]
    }
  ]
}